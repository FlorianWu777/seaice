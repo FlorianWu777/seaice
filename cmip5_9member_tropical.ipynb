{
 "cells": [
  {
   "cell_type": "code",
   "execution_count": 1,
   "metadata": {},
   "outputs": [],
   "source": [
    "import numpy as np\n",
    "import netCDF4 as nc\n",
    "from netCDF4 import Dataset\n",
    "import matplotlib.pyplot as plt\n",
    "import matplotlib as mpl\n",
    "import scipy.io as scio\n",
    "import cmaps\n",
    "from mpl_toolkits.basemap import Basemap, cm\n",
    "from scipy import stats\n",
    "from scipy.signal import detrend\n",
    "from datetime import datetime"
   ]
  },
  {
   "cell_type": "markdown",
   "metadata": {},
   "source": [
    "# 逐点detrend后SST.EOF前4个和T300.EOF 前3个 (20˚NS)，减去EOF4（9个member）SST.EOF (全场，但只加热带部分）之后（eof'）的第一mode（eof'1* pc'1[0]与每一个PC4相乘之后除以权重）"
   ]
  },
  {
   "cell_type": "markdown",
   "metadata": {},
   "source": [
    "## 读取数据"
   ]
  },
  {
   "cell_type": "code",
   "execution_count": 2,
   "metadata": {},
   "outputs": [],
   "source": [
    "ipth_in = '/Users/chenyipeng/Desktop/cyp_work/cwork2020/nature/enso_0/input/'\n",
    "ipth_in_eof = '/Users/chenyipeng/Desktop/cyp_work/cwork2020/nature/analysis/eof2_detrend_eof/'\n",
    "ipth = '/Users/chenyipeng/Desktop/cyp_work/cwork2021/nature/eof_deof4_allarea_4/'\n",
    "ipth_eof_same = '/Users/chenyipeng/Desktop/cyp_work/cwork2020/nature/analysis/deof4_cmip_9_12_eof_all_area/'     "
   ]
  },
  {
   "cell_type": "code",
   "execution_count": 3,
   "metadata": {},
   "outputs": [],
   "source": [
    "cmip = Dataset(ipth_in+'CMIP5.input.36mon.1861_2001.nc')\n",
    "lon_cmip = np.array(cmip.variables['lon'])\n",
    "lat_cmip = np.array(cmip.variables['lat'])\n",
    "lev_cmip = np.array(cmip.variables['lev'])\n",
    "time_ = np.linspace(1861,2004,1716)"
   ]
  },
  {
   "cell_type": "markdown",
   "metadata": {},
   "source": [
    "## SST.EOF1-4和T300.EOF1-3减去9member共性（SST.eof'1）"
   ]
  },
  {
   "cell_type": "code",
   "execution_count": 4,
   "metadata": {},
   "outputs": [],
   "source": [
    "lat_cmip1 = np.where(lat_cmip>=-20)[0][0]\n",
    "lat_cmip2 = np.where(lat_cmip<=20)[0][-1]"
   ]
  },
  {
   "cell_type": "code",
   "execution_count": 5,
   "metadata": {},
   "outputs": [],
   "source": [
    "# 9member SST的EOF模态\n",
    "sst_eof = [0,1,2,3]\n",
    "eof = np.zeros([9,72,1])\n",
    "eofs_9same = np.zeros([72,24,1])\n",
    "pc = np.zeros([1,1716])\n",
    "enso_sst9_eof4_weight = np.zeros([9,9,72,1716])\n",
    "enso_sst9_same_weight = np.zeros([9,9,72,1716])\n",
    "\n",
    "data = scio.loadmat(ipth_in_eof+'eof16_detrend_cmip5_9_12member.mat')\n",
    "pcs_sst = data['PCs_sst']\n",
    "eofs = data['EOFs_sst']\n",
    "eofs_sst = eofs.swapaxes(1, 0)\n",
    "for i in range(9):\n",
    "    for j in sst_eof:\n",
    "        eof[:,:,0] = eofs_sst[:,:,j,i]\n",
    "        pc[0,:] = pcs_sst[:,j,i]\n",
    "        enso_sst9_eof4_weight[i,:,:,:] += np.dot(eof,pc)\n",
    "        \n",
    "data_ = scio.loadmat(ipth_eof_same+'deof4_cmip5_eof_all_area.mat')\n",
    "eofs_9same[:,:,0] = data_['EOFs_sst9'][:,:,0]\n",
    "pc_sst_9same = data_['PCs_sst9'][:,0] #EOF'的第一模态的pc'1\n",
    "eofs_sst_9same = eofs_9same.swapaxes(1, 0)\n",
    "for i in range(9):\n",
    "    pc[0,:] = pcs_sst[:,3,i]\n",
    "    enso_sst9_same_weight[i,:,:,:] = np.dot(\n",
    "        eofs_sst_9same*pc_sst_9same[i],pc)[lat_cmip1:lat_cmip2+1,:,:]\n",
    "    \n",
    "enso_sst9_weight = enso_sst9_eof4_weight - enso_sst9_same_weight\n",
    "#除以权重        \n",
    "arw_ = np.tile(np.cos(np.radians(lat_cmip[lat_cmip1:lat_cmip2+1])),\n",
    "               (enso_sst9_weight.shape[0],\n",
    "                enso_sst9_weight.shape[2],enso_sst9_weight.shape[3],1))\n",
    "arw = arw_.swapaxes(2,3).swapaxes(1,2)\n",
    "enso_sst9 = enso_sst9_weight/arw\n",
    "\n",
    "#enso_sst9[9,9,72,1716]变为enso_sst9_new[1269,36,9,72]\n",
    "enso_sst9_new = np.zeros([1269,36,9,72])\n",
    "i = 0\n",
    "for n in range(enso_sst9.shape[0]): #9\n",
    "    for j in range(141):\n",
    "        nyear = j*12\n",
    "        enso_sst9_new[i,:,:,:] = enso_sst9.swapaxes(3, 1).swapaxes(3, 2)[n,nyear:nyear+36,:,:]\n",
    "        i = i+1"
   ]
  },
  {
   "cell_type": "code",
   "execution_count": 6,
   "metadata": {},
   "outputs": [],
   "source": [
    "# 9member t300 的EOF模态 \n",
    "t300_eof = [0,1,2]\n",
    "eof = np.zeros([9,72,1])\n",
    "pc = np.zeros([1,1716])\n",
    "enso_ohc9_weight = np.zeros([9,9,72,1716])\n",
    "data = scio.loadmat(ipth_in_eof+'eof16_detrend_cmip5_9_12member.mat')\n",
    "pcs_ohc = data['PCs_ohc']\n",
    "eofs = data['EOFs_ohc']\n",
    "eofs_ohc = eofs.swapaxes(1, 0)\n",
    "for i in range(9):\n",
    "    for j in t300_eof:\n",
    "        eof[:,:,0] = eofs_ohc[:,:,j,i]\n",
    "        pc[0,:] = pcs_ohc[:,j,i]\n",
    "        enso_ohc9_weight[i,:,:,:] += np.dot(eof,pc)\n",
    "        \n",
    "#除以权重\n",
    "enso_ohc9 = enso_ohc9_weight/arw\n",
    "\n",
    "#enso_ohc9[9,9,72,1716]变为enso_ohc9_new[1269,36,9,72]\n",
    "enso_ohc9_new = np.zeros([1269,36,9,72])\n",
    "i = 0\n",
    "for n in range(enso_ohc9.shape[0]): #9\n",
    "    for j in range(141):\n",
    "        nyear = j*12\n",
    "        enso_ohc9_new[i,:,:,:] = enso_ohc9.swapaxes(3, 1).swapaxes(3, 2)[n,nyear:nyear+36,:,:]\n",
    "        i = i+1"
   ]
  },
  {
   "cell_type": "code",
   "execution_count": 7,
   "metadata": {},
   "outputs": [],
   "source": [
    "data_0 = np.zeros([1269,36,1,72])\n",
    "sst_enso_cmip_new0 = np.concatenate((data_0,enso_sst9_new),axis=2)\n",
    "sst_enso_cmip_new1 = np.concatenate((sst_enso_cmip_new0,data_0),axis=2)\n",
    "sst_enso_cmip_new = np.concatenate((sst_enso_cmip_new1,data_0),axis=2)\n",
    "\n",
    "ohc_enso_cmip_new0 = np.concatenate((data_0,enso_ohc9_new),axis=2)\n",
    "ohc_enso_cmip_new1 = np.concatenate((ohc_enso_cmip_new0,data_0),axis=2)\n",
    "ohc_enso_cmip_new = np.concatenate((ohc_enso_cmip_new1,data_0),axis=2)"
   ]
  },
  {
   "cell_type": "code",
   "execution_count": 8,
   "metadata": {},
   "outputs": [],
   "source": [
    "##create NetCDF file\n",
    "cmip_new = nc.Dataset(ipth+'input/CMIP5.input.36mon.1861_2001.nc', 'w', format='NETCDF4')\n",
    "\n",
    "##define dimesions\n",
    "long = cmip_new.createDimension('lon', size=72)\n",
    "lati = cmip_new.createDimension('lat', size=12)\n",
    "levl = cmip_new.createDimension('lev', size=36)\n",
    "times = cmip_new.createDimension('time', size=1269)\n",
    "\n",
    "##define variables for storing data\n",
    "lon = cmip_new.createVariable('lon', 'f8', dimensions='lon')\n",
    "lat = cmip_new.createVariable('lat', 'f8', dimensions='lat')\n",
    "lev = cmip_new.createVariable('lev', 'f8', dimensions='lev')\n",
    "sst1 = cmip_new.createVariable('sst1', 'f4', dimensions=('time','lev','lat','lon'))\n",
    "t300 = cmip_new.createVariable('t300', 'f4', dimensions=('time','lev','lat','lon'))\n",
    "\n",
    "##add data to variables\n",
    "lon[:] = lon_cmip\n",
    "lat[:] = lat_cmip[lat_cmip1-1:lat_cmip2+3]\n",
    "lev[:] = lev_cmip\n",
    "sst1[:,:,:,:] = sst_enso_cmip_new\n",
    "t300[:,:,:,:] = ohc_enso_cmip_new\n",
    "\n",
    "##add attributes\n",
    "#add global attributes\n",
    "cmip_new.title = 'CMIP5.input.36mon.1861_2001.nc__tropical_SST20NS_20N20S'\n",
    "cmip_new.history = 'Created: ' + datetime(2021, 12, 28, 17, 48, 0).strftime('%Y-%m-%d %H:%M:%S')\n",
    "\n",
    "cmip_new.close()"
   ]
  },
  {
   "cell_type": "code",
   "execution_count": null,
   "metadata": {},
   "outputs": [],
   "source": []
  },
  {
   "cell_type": "code",
   "execution_count": null,
   "metadata": {},
   "outputs": [],
   "source": []
  }
 ],
 "metadata": {
  "kernelspec": {
   "display_name": "Python 3",
   "language": "python",
   "name": "python3"
  },
  "language_info": {
   "codemirror_mode": {
    "name": "ipython",
    "version": 3
   },
   "file_extension": ".py",
   "mimetype": "text/x-python",
   "name": "python",
   "nbconvert_exporter": "python",
   "pygments_lexer": "ipython3",
   "version": "3.7.6"
  },
  "toc": {
   "base_numbering": 1,
   "nav_menu": {},
   "number_sections": true,
   "sideBar": true,
   "skip_h1_title": false,
   "title_cell": "Table of Contents",
   "title_sidebar": "Contents",
   "toc_cell": false,
   "toc_position": {},
   "toc_section_display": true,
   "toc_window_display": false
  }
 },
 "nbformat": 4,
 "nbformat_minor": 4
}
